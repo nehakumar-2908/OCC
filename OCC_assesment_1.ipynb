{
  "nbformat": 4,
  "nbformat_minor": 0,
  "metadata": {
    "colab": {
      "provenance": []
    },
    "kernelspec": {
      "name": "python3",
      "display_name": "Python 3"
    },
    "language_info": {
      "name": "python"
    }
  },
  "cells": [
    {
      "cell_type": "code",
      "source": [
        "!pip install pyspark"
      ],
      "metadata": {
        "colab": {
          "base_uri": "https://localhost:8080/"
        },
        "id": "aHt4j9m_B4JK",
        "outputId": "a4146fc4-2b38-4dfa-cb00-9e0036eaa1ad"
      },
      "execution_count": 2,
      "outputs": [
        {
          "output_type": "stream",
          "name": "stdout",
          "text": [
            "Requirement already satisfied: pyspark in /usr/local/lib/python3.12/dist-packages (3.5.1)\n",
            "Requirement already satisfied: py4j==0.10.9.7 in /usr/local/lib/python3.12/dist-packages (from pyspark) (0.10.9.7)\n"
          ]
        }
      ]
    },
    {
      "cell_type": "code",
      "source": [
        "from pyspark import SparkContext\n",
        "sc = SparkContext(\"local\", \"EPLRDD\")\n",
        "sc.setLogLevel(\"ERROR\")"
      ],
      "metadata": {
        "id": "e6u7RTvsEoEG"
      },
      "execution_count": 3,
      "outputs": []
    },
    {
      "cell_type": "code",
      "source": [
        "from google.colab import files\n",
        "uploaded = files.upload()\n",
        "file_name = list(uploaded.keys())[0]\n",
        "print(\"Uploaded file:\", file_name)"
      ],
      "metadata": {
        "colab": {
          "base_uri": "https://localhost:8080/",
          "height": 90
        },
        "id": "q1SUmFe7EsJN",
        "outputId": "0e3e1d41-5269-4a0f-cb7e-46cc7ed0dee1"
      },
      "execution_count": 5,
      "outputs": [
        {
          "output_type": "display_data",
          "data": {
            "text/plain": [
              "<IPython.core.display.HTML object>"
            ],
            "text/html": [
              "\n",
              "     <input type=\"file\" id=\"files-32bd73d9-b0fa-48ed-bfef-b1fa813e7ed9\" name=\"files[]\" multiple disabled\n",
              "        style=\"border:none\" />\n",
              "     <output id=\"result-32bd73d9-b0fa-48ed-bfef-b1fa813e7ed9\">\n",
              "      Upload widget is only available when the cell has been executed in the\n",
              "      current browser session. Please rerun this cell to enable.\n",
              "      </output>\n",
              "      <script>// Copyright 2017 Google LLC\n",
              "//\n",
              "// Licensed under the Apache License, Version 2.0 (the \"License\");\n",
              "// you may not use this file except in compliance with the License.\n",
              "// You may obtain a copy of the License at\n",
              "//\n",
              "//      http://www.apache.org/licenses/LICENSE-2.0\n",
              "//\n",
              "// Unless required by applicable law or agreed to in writing, software\n",
              "// distributed under the License is distributed on an \"AS IS\" BASIS,\n",
              "// WITHOUT WARRANTIES OR CONDITIONS OF ANY KIND, either express or implied.\n",
              "// See the License for the specific language governing permissions and\n",
              "// limitations under the License.\n",
              "\n",
              "/**\n",
              " * @fileoverview Helpers for google.colab Python module.\n",
              " */\n",
              "(function(scope) {\n",
              "function span(text, styleAttributes = {}) {\n",
              "  const element = document.createElement('span');\n",
              "  element.textContent = text;\n",
              "  for (const key of Object.keys(styleAttributes)) {\n",
              "    element.style[key] = styleAttributes[key];\n",
              "  }\n",
              "  return element;\n",
              "}\n",
              "\n",
              "// Max number of bytes which will be uploaded at a time.\n",
              "const MAX_PAYLOAD_SIZE = 100 * 1024;\n",
              "\n",
              "function _uploadFiles(inputId, outputId) {\n",
              "  const steps = uploadFilesStep(inputId, outputId);\n",
              "  const outputElement = document.getElementById(outputId);\n",
              "  // Cache steps on the outputElement to make it available for the next call\n",
              "  // to uploadFilesContinue from Python.\n",
              "  outputElement.steps = steps;\n",
              "\n",
              "  return _uploadFilesContinue(outputId);\n",
              "}\n",
              "\n",
              "// This is roughly an async generator (not supported in the browser yet),\n",
              "// where there are multiple asynchronous steps and the Python side is going\n",
              "// to poll for completion of each step.\n",
              "// This uses a Promise to block the python side on completion of each step,\n",
              "// then passes the result of the previous step as the input to the next step.\n",
              "function _uploadFilesContinue(outputId) {\n",
              "  const outputElement = document.getElementById(outputId);\n",
              "  const steps = outputElement.steps;\n",
              "\n",
              "  const next = steps.next(outputElement.lastPromiseValue);\n",
              "  return Promise.resolve(next.value.promise).then((value) => {\n",
              "    // Cache the last promise value to make it available to the next\n",
              "    // step of the generator.\n",
              "    outputElement.lastPromiseValue = value;\n",
              "    return next.value.response;\n",
              "  });\n",
              "}\n",
              "\n",
              "/**\n",
              " * Generator function which is called between each async step of the upload\n",
              " * process.\n",
              " * @param {string} inputId Element ID of the input file picker element.\n",
              " * @param {string} outputId Element ID of the output display.\n",
              " * @return {!Iterable<!Object>} Iterable of next steps.\n",
              " */\n",
              "function* uploadFilesStep(inputId, outputId) {\n",
              "  const inputElement = document.getElementById(inputId);\n",
              "  inputElement.disabled = false;\n",
              "\n",
              "  const outputElement = document.getElementById(outputId);\n",
              "  outputElement.innerHTML = '';\n",
              "\n",
              "  const pickedPromise = new Promise((resolve) => {\n",
              "    inputElement.addEventListener('change', (e) => {\n",
              "      resolve(e.target.files);\n",
              "    });\n",
              "  });\n",
              "\n",
              "  const cancel = document.createElement('button');\n",
              "  inputElement.parentElement.appendChild(cancel);\n",
              "  cancel.textContent = 'Cancel upload';\n",
              "  const cancelPromise = new Promise((resolve) => {\n",
              "    cancel.onclick = () => {\n",
              "      resolve(null);\n",
              "    };\n",
              "  });\n",
              "\n",
              "  // Wait for the user to pick the files.\n",
              "  const files = yield {\n",
              "    promise: Promise.race([pickedPromise, cancelPromise]),\n",
              "    response: {\n",
              "      action: 'starting',\n",
              "    }\n",
              "  };\n",
              "\n",
              "  cancel.remove();\n",
              "\n",
              "  // Disable the input element since further picks are not allowed.\n",
              "  inputElement.disabled = true;\n",
              "\n",
              "  if (!files) {\n",
              "    return {\n",
              "      response: {\n",
              "        action: 'complete',\n",
              "      }\n",
              "    };\n",
              "  }\n",
              "\n",
              "  for (const file of files) {\n",
              "    const li = document.createElement('li');\n",
              "    li.append(span(file.name, {fontWeight: 'bold'}));\n",
              "    li.append(span(\n",
              "        `(${file.type || 'n/a'}) - ${file.size} bytes, ` +\n",
              "        `last modified: ${\n",
              "            file.lastModifiedDate ? file.lastModifiedDate.toLocaleDateString() :\n",
              "                                    'n/a'} - `));\n",
              "    const percent = span('0% done');\n",
              "    li.appendChild(percent);\n",
              "\n",
              "    outputElement.appendChild(li);\n",
              "\n",
              "    const fileDataPromise = new Promise((resolve) => {\n",
              "      const reader = new FileReader();\n",
              "      reader.onload = (e) => {\n",
              "        resolve(e.target.result);\n",
              "      };\n",
              "      reader.readAsArrayBuffer(file);\n",
              "    });\n",
              "    // Wait for the data to be ready.\n",
              "    let fileData = yield {\n",
              "      promise: fileDataPromise,\n",
              "      response: {\n",
              "        action: 'continue',\n",
              "      }\n",
              "    };\n",
              "\n",
              "    // Use a chunked sending to avoid message size limits. See b/62115660.\n",
              "    let position = 0;\n",
              "    do {\n",
              "      const length = Math.min(fileData.byteLength - position, MAX_PAYLOAD_SIZE);\n",
              "      const chunk = new Uint8Array(fileData, position, length);\n",
              "      position += length;\n",
              "\n",
              "      const base64 = btoa(String.fromCharCode.apply(null, chunk));\n",
              "      yield {\n",
              "        response: {\n",
              "          action: 'append',\n",
              "          file: file.name,\n",
              "          data: base64,\n",
              "        },\n",
              "      };\n",
              "\n",
              "      let percentDone = fileData.byteLength === 0 ?\n",
              "          100 :\n",
              "          Math.round((position / fileData.byteLength) * 100);\n",
              "      percent.textContent = `${percentDone}% done`;\n",
              "\n",
              "    } while (position < fileData.byteLength);\n",
              "  }\n",
              "\n",
              "  // All done.\n",
              "  yield {\n",
              "    response: {\n",
              "      action: 'complete',\n",
              "    }\n",
              "  };\n",
              "}\n",
              "\n",
              "scope.google = scope.google || {};\n",
              "scope.google.colab = scope.google.colab || {};\n",
              "scope.google.colab._files = {\n",
              "  _uploadFiles,\n",
              "  _uploadFilesContinue,\n",
              "};\n",
              "})(self);\n",
              "</script> "
            ]
          },
          "metadata": {}
        },
        {
          "output_type": "stream",
          "name": "stdout",
          "text": [
            "Saving EPL.csv to EPL (1).csv\n",
            "Uploaded file: EPL (1).csv\n"
          ]
        }
      ]
    },
    {
      "cell_type": "code",
      "source": [
        "epl_rdd = sc.textFile(\"EPL.csv\", 4)\n",
        "header = epl_rdd.first()\n",
        "data = epl_rdd.filter(lambda row: row != header)\n",
        "rows = data.map(lambda line: line.split(\",\"))"
      ],
      "metadata": {
        "id": "WewqCBqoE-RB"
      },
      "execution_count": 6,
      "outputs": []
    },
    {
      "cell_type": "code",
      "source": [
        "def safe_int_conversion(value):\n",
        "    try:\n",
        "        # Attempt to convert to float first to handle '1.0' cases\n",
        "        return int(float(value))\n",
        "    except ValueError:\n",
        "        # Handle cases that cannot be converted to float or int\n",
        "        return None\n",
        "\n",
        "season_goals = rows.map(lambda x: (x[5], safe_int_conversion(x[2]) + safe_int_conversion(x[3])) if safe_int_conversion(x[2]) is not None and safe_int_conversion(x[3]) is not None else None)\n",
        "season_goals = season_goals.filter(lambda x: x is not None) # Filter out rows with conversion errors\n",
        "\n",
        "season_total = season_goals.reduceByKey(lambda a, b: a + b)\n",
        "highest_goals_season = season_total.takeOrdered(1, key=lambda x: -x[1])\n",
        "print(\"Highest goals season:\", highest_goals_season)"
      ],
      "metadata": {
        "colab": {
          "base_uri": "https://localhost:8080/"
        },
        "id": "yYptZ3p-FCcu",
        "outputId": "3213f1c4-cf4c-46a0-a34e-d8edf2e5a7dd"
      },
      "execution_count": 8,
      "outputs": [
        {
          "output_type": "stream",
          "name": "stdout",
          "text": [
            "Highest goals season: [('2011-2012', 1066)]\n"
          ]
        }
      ]
    },
    {
      "cell_type": "code",
      "source": [
        "lowest_goals_season = season_total.takeOrdered(1, key=lambda x: x[1])\n",
        "print(\"Lowest goals season:\", lowest_goals_season)"
      ],
      "metadata": {
        "colab": {
          "base_uri": "https://localhost:8080/"
        },
        "id": "V_W6VUACFR5Z",
        "outputId": "c43e3b9b-3db8-4468-fb82-f76eecabc32c"
      },
      "execution_count": 9,
      "outputs": [
        {
          "output_type": "stream",
          "name": "stdout",
          "text": [
            "Lowest goals season: [('2006-2007', 931)]\n"
          ]
        }
      ]
    },
    {
      "cell_type": "code",
      "source": [
        "def safe_int_conversion(value):\n",
        "    try:\n",
        "        # Attempt to convert to float first to handle '1.0' cases\n",
        "        return int(float(value))\n",
        "    except ValueError:\n",
        "        # Handle cases that cannot be converted to float or int\n",
        "        return None\n",
        "\n",
        "team_goals = rows.flatMap(lambda x: [\n",
        "    (x[0], safe_int_conversion(x[2])),\n",
        "    (x[1], safe_int_conversion(x[3]))\n",
        "]).filter(lambda x: x[1] is not None) # Filter out rows with conversion errors\n",
        "\n",
        "team_total_goals = team_goals.reduceByKey(lambda a, b: a + b)\n",
        "\n",
        "team_seasons = rows.flatMap(lambda x: [\n",
        "    (x[0], {x[5]}),\n",
        "    (x[1], {x[5]})\n",
        "]).reduceByKey(lambda a, b: a.union(b)) \\\n",
        "  .mapValues(lambda s: len(s))\n",
        "\n",
        "team_avg_goals = team_total_goals.join(team_seasons) \\\n",
        "                                 .mapValues(lambda x: x[0] / x[1])\n",
        "\n",
        "highest_avg_team = team_avg_goals.takeOrdered(1, key=lambda x: -x[1])\n",
        "print(\"Team with highest avg goals/season:\", highest_avg_team)"
      ],
      "metadata": {
        "colab": {
          "base_uri": "https://localhost:8080/"
        },
        "id": "Yf14ACVpFUwC",
        "outputId": "4881a3f7-4657-4990-90ee-5347068b485a"
      },
      "execution_count": 12,
      "outputs": [
        {
          "output_type": "stream",
          "name": "stdout",
          "text": [
            "Team with highest avg goals/season: [('Manchester United', 72.25)]\n"
          ]
        }
      ]
    },
    {
      "cell_type": "code",
      "source": [
        "manu_matches = rows.filter(lambda x: x[0] == \"Manchester United\" or x[1] == \"Manchester United\")\n",
        "total_matches = manu_matches.count()\n",
        "manu_wins = manu_matches.filter(\n",
        "    lambda x: (x[0] == \"Manchester United\" and x[4] == \"H\") or\n",
        "              (x[1] == \"Manchester United\" and x[4] == \"A\")\n",
        ").count()\n",
        "manu_losses = manu_matches.filter(\n",
        "    lambda x: (x[0] == \"Manchester United\" and x[4] == \"A\") or\n",
        "              (x[1] == \"Manchester United\" and x[4] == \"H\")\n",
        ").count()\n",
        "manu_draws = manu_matches.filter(lambda x: x[4] == \"D\").count()\n",
        "p_win = manu_wins / total_matches\n",
        "p_loss = manu_losses / total_matches\n",
        "p_draw = manu_draws / total_matches\n",
        "print(\"P(Win):\", p_win, \" P(Loss):\", p_loss, \" P(Draw):\", p_draw)"
      ],
      "metadata": {
        "colab": {
          "base_uri": "https://localhost:8080/"
        },
        "id": "q_nmhmrOFsnx",
        "outputId": "e2e59ed4-5f99-4f32-857c-8b181c66f187"
      },
      "execution_count": 14,
      "outputs": [
        {
          "output_type": "stream",
          "name": "stdout",
          "text": [
            "P(Win): 0.6359649122807017  P(Loss): 0.16885964912280702  P(Draw): 0.19517543859649122\n"
          ]
        }
      ]
    }
  ]
}